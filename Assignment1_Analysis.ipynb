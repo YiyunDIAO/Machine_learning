{
  "metadata": {
    "kernelspec": {
      "name": "python",
      "display_name": "Python (Pyodide)",
      "language": "python"
    },
    "language_info": {
      "codemirror_mode": {
        "name": "python",
        "version": 3
      },
      "file_extension": ".py",
      "mimetype": "text/x-python",
      "name": "python",
      "nbconvert_exporter": "python",
      "pygments_lexer": "ipython3",
      "version": "3.8"
    }
  },
  "nbformat_minor": 4,
  "nbformat": 4,
  "cells": [
    {
      "cell_type": "markdown",
      "source": "# This is the main analysis script done for Assignment #1 \n\nFollowing analysis is done: \n\n1. Evaluate the initial performance of following models: DecisionTree, KNN, SVM under default dataset in terms of accuracy & speed \n2. Evaluate the performance of the model in terms of sample size & features (less features + more noise in features) ",
      "metadata": {}
    },
    {
      "cell_type": "code",
      "source": "import pandas as pd \nimport numpy as np \nimport os \npd.set_option('display.max_columns', None) \npd.set_option('display.max_rows', None)\nfrom matplotlib import pyplot as plt\nfrom sklearn.model_selection import train_test_split\n\nfrom IPython.display import display \nfrom sklearn.preprocessing import MinMaxScaler \nfrom sklearn.tree import DecisionTreeClassifier\nfrom sklearn.neighbors import KNeighborsClassifier\nfrom sklearn.svm import SVC \nfrom sklearn.metrics import accuracy_score, roc_auc_score\nfrom sklearn.model_selection import GridSearchCV",
      "metadata": {
        "trusted": true
      },
      "outputs": [],
      "execution_count": null
    },
    {
      "cell_type": "code",
      "source": "from utils import ml_dataset, classificationModel",
      "metadata": {
        "trusted": true
      },
      "outputs": [
        {
          "ename": "<class 'ModuleNotFoundError'>",
          "evalue": "No module named 'utils'",
          "traceback": [
            "\u001b[0;31m---------------------------------------------------------------------------\u001b[0m",
            "\u001b[0;31mModuleNotFoundError\u001b[0m                       Traceback (most recent call last)",
            "Cell \u001b[0;32mIn[1], line 1\u001b[0m\n\u001b[0;32m----> 1\u001b[0m \u001b[38;5;28;01mfrom\u001b[39;00m \u001b[38;5;21;01mutils\u001b[39;00m \u001b[38;5;28;01mimport\u001b[39;00m ml_dataset, classificationModel\n",
            "\u001b[0;31mModuleNotFoundError\u001b[0m: No module named 'utils'"
          ],
          "output_type": "error"
        }
      ],
      "execution_count": 1
    },
    {
      "cell_type": "markdown",
      "source": "# Part 1：Reading and Prepping dataset ",
      "metadata": {}
    },
    {
      "cell_type": "code",
      "source": "credit = pd.read_csv('/drive/notebooks/credit_risk_dataset.csv')",
      "metadata": {
        "trusted": true
      },
      "outputs": [],
      "execution_count": 4
    },
    {
      "cell_type": "code",
      "source": "credit_df = ml_dataset(credit, 'loan_status') \n# get a summary of the dataset \ncredit_df.summary()\n# fill in null values appropriately \ncredit_df.fill_null()\n\n# split into train-test dataset \nX_train, X_test, y_train, y_test = credit_df.training_prep()\n",
      "metadata": {
        "trusted": true
      },
      "outputs": [
        {
          "name": "stdout",
          "text": "---------------------- Basic Attributes -------------------------\n",
          "output_type": "stream"
        },
        {
          "output_type": "display_data",
          "data": {
            "text/plain": "                            PctNull DataTypes\nperson_age                     0.00     int64\nperson_income                  0.00     int64\nperson_home_ownership          0.00    object\nperson_emp_length              0.03   float64\nloan_intent                    0.00    object\nloan_grade                     0.00    object\nloan_amnt                      0.00     int64\nloan_int_rate                  0.10   float64\nloan_status                    0.00     int64\nloan_percent_income            0.00   float64\ncb_person_default_on_file      0.00    object\ncb_person_cred_hist_length     0.00     int64",
            "text/html": "<div>\n<style scoped>\n    .dataframe tbody tr th:only-of-type {\n        vertical-align: middle;\n    }\n\n    .dataframe tbody tr th {\n        vertical-align: top;\n    }\n\n    .dataframe thead th {\n        text-align: right;\n    }\n</style>\n<table border=\"1\" class=\"dataframe\">\n  <thead>\n    <tr style=\"text-align: right;\">\n      <th></th>\n      <th>PctNull</th>\n      <th>DataTypes</th>\n    </tr>\n  </thead>\n  <tbody>\n    <tr>\n      <th>person_age</th>\n      <td>0.00</td>\n      <td>int64</td>\n    </tr>\n    <tr>\n      <th>person_income</th>\n      <td>0.00</td>\n      <td>int64</td>\n    </tr>\n    <tr>\n      <th>person_home_ownership</th>\n      <td>0.00</td>\n      <td>object</td>\n    </tr>\n    <tr>\n      <th>person_emp_length</th>\n      <td>0.03</td>\n      <td>float64</td>\n    </tr>\n    <tr>\n      <th>loan_intent</th>\n      <td>0.00</td>\n      <td>object</td>\n    </tr>\n    <tr>\n      <th>loan_grade</th>\n      <td>0.00</td>\n      <td>object</td>\n    </tr>\n    <tr>\n      <th>loan_amnt</th>\n      <td>0.00</td>\n      <td>int64</td>\n    </tr>\n    <tr>\n      <th>loan_int_rate</th>\n      <td>0.10</td>\n      <td>float64</td>\n    </tr>\n    <tr>\n      <th>loan_status</th>\n      <td>0.00</td>\n      <td>int64</td>\n    </tr>\n    <tr>\n      <th>loan_percent_income</th>\n      <td>0.00</td>\n      <td>float64</td>\n    </tr>\n    <tr>\n      <th>cb_person_default_on_file</th>\n      <td>0.00</td>\n      <td>object</td>\n    </tr>\n    <tr>\n      <th>cb_person_cred_hist_length</th>\n      <td>0.00</td>\n      <td>int64</td>\n    </tr>\n  </tbody>\n</table>\n</div>"
          },
          "metadata": {}
        },
        {
          "name": "stdout",
          "text": "----------------- Distribution of Continuous Variable -------------------\n",
          "output_type": "stream"
        },
        {
          "output_type": "display_data",
          "data": {
            "text/plain": "                            PctNull DataTypes    count          mean  \\\nperson_age                     0.00     int64  32581.0     27.734600   \nperson_income                  0.00     int64  32581.0  66074.848470   \nperson_emp_length              0.03   float64  31686.0      4.789686   \nloan_amnt                      0.00     int64  32581.0   9589.371106   \nloan_int_rate                  0.10   float64  29465.0     11.011695   \nloan_status                    0.00     int64  32581.0      0.218164   \nloan_percent_income            0.00   float64  32581.0      0.170203   \ncb_person_cred_hist_length     0.00     int64  32581.0      5.804211   \n\n                                     std      min       25%       50%  \\\nperson_age                      6.348078    20.00     23.00     26.00   \nperson_income               61983.119168  4000.00  38500.00  55000.00   \nperson_emp_length               4.142630     0.00      2.00      4.00   \nloan_amnt                    6322.086646   500.00   5000.00   8000.00   \nloan_int_rate                   3.240459     5.42      7.90     10.99   \nloan_status                     0.413006     0.00      0.00      0.00   \nloan_percent_income             0.106782     0.00      0.09      0.15   \ncb_person_cred_hist_length      4.055001     2.00      3.00      4.00   \n\n                                 75%         max  \nperson_age                     30.00      144.00  \nperson_income               79200.00  6000000.00  \nperson_emp_length               7.00      123.00  \nloan_amnt                   12200.00    35000.00  \nloan_int_rate                  13.47       23.22  \nloan_status                     0.00        1.00  \nloan_percent_income             0.23        0.83  \ncb_person_cred_hist_length      8.00       30.00  ",
            "text/html": "<div>\n<style scoped>\n    .dataframe tbody tr th:only-of-type {\n        vertical-align: middle;\n    }\n\n    .dataframe tbody tr th {\n        vertical-align: top;\n    }\n\n    .dataframe thead th {\n        text-align: right;\n    }\n</style>\n<table border=\"1\" class=\"dataframe\">\n  <thead>\n    <tr style=\"text-align: right;\">\n      <th></th>\n      <th>PctNull</th>\n      <th>DataTypes</th>\n      <th>count</th>\n      <th>mean</th>\n      <th>std</th>\n      <th>min</th>\n      <th>25%</th>\n      <th>50%</th>\n      <th>75%</th>\n      <th>max</th>\n    </tr>\n  </thead>\n  <tbody>\n    <tr>\n      <th>person_age</th>\n      <td>0.00</td>\n      <td>int64</td>\n      <td>32581.0</td>\n      <td>27.734600</td>\n      <td>6.348078</td>\n      <td>20.00</td>\n      <td>23.00</td>\n      <td>26.00</td>\n      <td>30.00</td>\n      <td>144.00</td>\n    </tr>\n    <tr>\n      <th>person_income</th>\n      <td>0.00</td>\n      <td>int64</td>\n      <td>32581.0</td>\n      <td>66074.848470</td>\n      <td>61983.119168</td>\n      <td>4000.00</td>\n      <td>38500.00</td>\n      <td>55000.00</td>\n      <td>79200.00</td>\n      <td>6000000.00</td>\n    </tr>\n    <tr>\n      <th>person_emp_length</th>\n      <td>0.03</td>\n      <td>float64</td>\n      <td>31686.0</td>\n      <td>4.789686</td>\n      <td>4.142630</td>\n      <td>0.00</td>\n      <td>2.00</td>\n      <td>4.00</td>\n      <td>7.00</td>\n      <td>123.00</td>\n    </tr>\n    <tr>\n      <th>loan_amnt</th>\n      <td>0.00</td>\n      <td>int64</td>\n      <td>32581.0</td>\n      <td>9589.371106</td>\n      <td>6322.086646</td>\n      <td>500.00</td>\n      <td>5000.00</td>\n      <td>8000.00</td>\n      <td>12200.00</td>\n      <td>35000.00</td>\n    </tr>\n    <tr>\n      <th>loan_int_rate</th>\n      <td>0.10</td>\n      <td>float64</td>\n      <td>29465.0</td>\n      <td>11.011695</td>\n      <td>3.240459</td>\n      <td>5.42</td>\n      <td>7.90</td>\n      <td>10.99</td>\n      <td>13.47</td>\n      <td>23.22</td>\n    </tr>\n    <tr>\n      <th>loan_status</th>\n      <td>0.00</td>\n      <td>int64</td>\n      <td>32581.0</td>\n      <td>0.218164</td>\n      <td>0.413006</td>\n      <td>0.00</td>\n      <td>0.00</td>\n      <td>0.00</td>\n      <td>0.00</td>\n      <td>1.00</td>\n    </tr>\n    <tr>\n      <th>loan_percent_income</th>\n      <td>0.00</td>\n      <td>float64</td>\n      <td>32581.0</td>\n      <td>0.170203</td>\n      <td>0.106782</td>\n      <td>0.00</td>\n      <td>0.09</td>\n      <td>0.15</td>\n      <td>0.23</td>\n      <td>0.83</td>\n    </tr>\n    <tr>\n      <th>cb_person_cred_hist_length</th>\n      <td>0.00</td>\n      <td>int64</td>\n      <td>32581.0</td>\n      <td>5.804211</td>\n      <td>4.055001</td>\n      <td>2.00</td>\n      <td>3.00</td>\n      <td>4.00</td>\n      <td>8.00</td>\n      <td>30.00</td>\n    </tr>\n  </tbody>\n</table>\n</div>"
          },
          "metadata": {}
        },
        {
          "name": "stdout",
          "text": "----------------- Corrlation matrix -----------------------------------\n",
          "output_type": "stream"
        },
        {
          "output_type": "display_data",
          "data": {
            "text/plain": "                            person_age  person_income  person_emp_length  \\\nperson_age                    1.000000       0.144972           0.107211   \nperson_income                 0.144972       1.000000           0.213347   \nperson_emp_length             0.107211       0.213347           1.000000   \nloan_amnt                     0.064382       0.406586           0.110051   \nloan_int_rate                 0.012246      -0.034283          -0.066426   \nloan_status                  -0.033354      -0.272131          -0.097558   \nloan_percent_income          -0.057991      -0.366881          -0.058310   \ncb_person_cred_hist_length    0.805512       0.091865           0.069790   \n\n                            loan_amnt  loan_int_rate  loan_status  \\\nperson_age                   0.064382       0.012246    -0.033354   \nperson_income                0.406586      -0.034283    -0.272131   \nperson_emp_length            0.110051      -0.066426    -0.097558   \nloan_amnt                    1.000000       0.106307     0.084032   \nloan_int_rate                0.106307       1.000000     0.320062   \nloan_status                  0.084032       0.320062     1.000000   \nloan_percent_income          0.653633       0.124217     0.316115   \ncb_person_cred_hist_length   0.042085       0.013968    -0.023779   \n\n                            loan_percent_income  cb_person_cred_hist_length  \nperson_age                            -0.057991                    0.805512  \nperson_income                         -0.366881                    0.091865  \nperson_emp_length                     -0.058310                    0.069790  \nloan_amnt                              0.653633                    0.042085  \nloan_int_rate                          0.124217                    0.013968  \nloan_status                            0.316115                   -0.023779  \nloan_percent_income                    1.000000                   -0.037114  \ncb_person_cred_hist_length            -0.037114                    1.000000  ",
            "text/html": "<div>\n<style scoped>\n    .dataframe tbody tr th:only-of-type {\n        vertical-align: middle;\n    }\n\n    .dataframe tbody tr th {\n        vertical-align: top;\n    }\n\n    .dataframe thead th {\n        text-align: right;\n    }\n</style>\n<table border=\"1\" class=\"dataframe\">\n  <thead>\n    <tr style=\"text-align: right;\">\n      <th></th>\n      <th>person_age</th>\n      <th>person_income</th>\n      <th>person_emp_length</th>\n      <th>loan_amnt</th>\n      <th>loan_int_rate</th>\n      <th>loan_status</th>\n      <th>loan_percent_income</th>\n      <th>cb_person_cred_hist_length</th>\n    </tr>\n  </thead>\n  <tbody>\n    <tr>\n      <th>person_age</th>\n      <td>1.000000</td>\n      <td>0.144972</td>\n      <td>0.107211</td>\n      <td>0.064382</td>\n      <td>0.012246</td>\n      <td>-0.033354</td>\n      <td>-0.057991</td>\n      <td>0.805512</td>\n    </tr>\n    <tr>\n      <th>person_income</th>\n      <td>0.144972</td>\n      <td>1.000000</td>\n      <td>0.213347</td>\n      <td>0.406586</td>\n      <td>-0.034283</td>\n      <td>-0.272131</td>\n      <td>-0.366881</td>\n      <td>0.091865</td>\n    </tr>\n    <tr>\n      <th>person_emp_length</th>\n      <td>0.107211</td>\n      <td>0.213347</td>\n      <td>1.000000</td>\n      <td>0.110051</td>\n      <td>-0.066426</td>\n      <td>-0.097558</td>\n      <td>-0.058310</td>\n      <td>0.069790</td>\n    </tr>\n    <tr>\n      <th>loan_amnt</th>\n      <td>0.064382</td>\n      <td>0.406586</td>\n      <td>0.110051</td>\n      <td>1.000000</td>\n      <td>0.106307</td>\n      <td>0.084032</td>\n      <td>0.653633</td>\n      <td>0.042085</td>\n    </tr>\n    <tr>\n      <th>loan_int_rate</th>\n      <td>0.012246</td>\n      <td>-0.034283</td>\n      <td>-0.066426</td>\n      <td>0.106307</td>\n      <td>1.000000</td>\n      <td>0.320062</td>\n      <td>0.124217</td>\n      <td>0.013968</td>\n    </tr>\n    <tr>\n      <th>loan_status</th>\n      <td>-0.033354</td>\n      <td>-0.272131</td>\n      <td>-0.097558</td>\n      <td>0.084032</td>\n      <td>0.320062</td>\n      <td>1.000000</td>\n      <td>0.316115</td>\n      <td>-0.023779</td>\n    </tr>\n    <tr>\n      <th>loan_percent_income</th>\n      <td>-0.057991</td>\n      <td>-0.366881</td>\n      <td>-0.058310</td>\n      <td>0.653633</td>\n      <td>0.124217</td>\n      <td>0.316115</td>\n      <td>1.000000</td>\n      <td>-0.037114</td>\n    </tr>\n    <tr>\n      <th>cb_person_cred_hist_length</th>\n      <td>0.805512</td>\n      <td>0.091865</td>\n      <td>0.069790</td>\n      <td>0.042085</td>\n      <td>0.013968</td>\n      <td>-0.023779</td>\n      <td>-0.037114</td>\n      <td>1.000000</td>\n    </tr>\n  </tbody>\n</table>\n</div>"
          },
          "metadata": {}
        },
        {
          "name": "stdout",
          "text": "----------------- Summary of Categorical Variable ---------------------\n",
          "output_type": "stream"
        },
        {
          "output_type": "display_data",
          "data": {
            "text/plain": "  person_home_ownership loan_status          \n                              count      mean\n0              MORTGAGE       13444  0.125707\n1                 OTHER         107  0.308411\n2                   OWN        2584  0.074690\n3                  RENT       16446  0.315700",
            "text/html": "<div>\n<style scoped>\n    .dataframe tbody tr th:only-of-type {\n        vertical-align: middle;\n    }\n\n    .dataframe tbody tr th {\n        vertical-align: top;\n    }\n\n    .dataframe thead tr th {\n        text-align: left;\n    }\n</style>\n<table border=\"1\" class=\"dataframe\">\n  <thead>\n    <tr>\n      <th></th>\n      <th>person_home_ownership</th>\n      <th colspan=\"2\" halign=\"left\">loan_status</th>\n    </tr>\n    <tr>\n      <th></th>\n      <th></th>\n      <th>count</th>\n      <th>mean</th>\n    </tr>\n  </thead>\n  <tbody>\n    <tr>\n      <th>0</th>\n      <td>MORTGAGE</td>\n      <td>13444</td>\n      <td>0.125707</td>\n    </tr>\n    <tr>\n      <th>1</th>\n      <td>OTHER</td>\n      <td>107</td>\n      <td>0.308411</td>\n    </tr>\n    <tr>\n      <th>2</th>\n      <td>OWN</td>\n      <td>2584</td>\n      <td>0.074690</td>\n    </tr>\n    <tr>\n      <th>3</th>\n      <td>RENT</td>\n      <td>16446</td>\n      <td>0.315700</td>\n    </tr>\n  </tbody>\n</table>\n</div>"
          },
          "metadata": {}
        },
        {
          "output_type": "display_data",
          "data": {
            "text/plain": "         loan_intent loan_status          \n                           count      mean\n0  DEBTCONSOLIDATION        5212  0.285879\n1          EDUCATION        6453  0.172168\n2    HOMEIMPROVEMENT        3605  0.261026\n3            MEDICAL        6071  0.267007\n4           PERSONAL        5521  0.198877\n5            VENTURE        5719  0.148103",
            "text/html": "<div>\n<style scoped>\n    .dataframe tbody tr th:only-of-type {\n        vertical-align: middle;\n    }\n\n    .dataframe tbody tr th {\n        vertical-align: top;\n    }\n\n    .dataframe thead tr th {\n        text-align: left;\n    }\n</style>\n<table border=\"1\" class=\"dataframe\">\n  <thead>\n    <tr>\n      <th></th>\n      <th>loan_intent</th>\n      <th colspan=\"2\" halign=\"left\">loan_status</th>\n    </tr>\n    <tr>\n      <th></th>\n      <th></th>\n      <th>count</th>\n      <th>mean</th>\n    </tr>\n  </thead>\n  <tbody>\n    <tr>\n      <th>0</th>\n      <td>DEBTCONSOLIDATION</td>\n      <td>5212</td>\n      <td>0.285879</td>\n    </tr>\n    <tr>\n      <th>1</th>\n      <td>EDUCATION</td>\n      <td>6453</td>\n      <td>0.172168</td>\n    </tr>\n    <tr>\n      <th>2</th>\n      <td>HOMEIMPROVEMENT</td>\n      <td>3605</td>\n      <td>0.261026</td>\n    </tr>\n    <tr>\n      <th>3</th>\n      <td>MEDICAL</td>\n      <td>6071</td>\n      <td>0.267007</td>\n    </tr>\n    <tr>\n      <th>4</th>\n      <td>PERSONAL</td>\n      <td>5521</td>\n      <td>0.198877</td>\n    </tr>\n    <tr>\n      <th>5</th>\n      <td>VENTURE</td>\n      <td>5719</td>\n      <td>0.148103</td>\n    </tr>\n  </tbody>\n</table>\n</div>"
          },
          "metadata": {}
        },
        {
          "output_type": "display_data",
          "data": {
            "text/plain": "  loan_grade loan_status          \n                   count      mean\n0          A       10777  0.099564\n1          B       10451  0.162760\n2          C        6458  0.207340\n3          D        3626  0.590458\n4          E         964  0.644191\n5          F         241  0.705394\n6          G          64  0.984375",
            "text/html": "<div>\n<style scoped>\n    .dataframe tbody tr th:only-of-type {\n        vertical-align: middle;\n    }\n\n    .dataframe tbody tr th {\n        vertical-align: top;\n    }\n\n    .dataframe thead tr th {\n        text-align: left;\n    }\n</style>\n<table border=\"1\" class=\"dataframe\">\n  <thead>\n    <tr>\n      <th></th>\n      <th>loan_grade</th>\n      <th colspan=\"2\" halign=\"left\">loan_status</th>\n    </tr>\n    <tr>\n      <th></th>\n      <th></th>\n      <th>count</th>\n      <th>mean</th>\n    </tr>\n  </thead>\n  <tbody>\n    <tr>\n      <th>0</th>\n      <td>A</td>\n      <td>10777</td>\n      <td>0.099564</td>\n    </tr>\n    <tr>\n      <th>1</th>\n      <td>B</td>\n      <td>10451</td>\n      <td>0.162760</td>\n    </tr>\n    <tr>\n      <th>2</th>\n      <td>C</td>\n      <td>6458</td>\n      <td>0.207340</td>\n    </tr>\n    <tr>\n      <th>3</th>\n      <td>D</td>\n      <td>3626</td>\n      <td>0.590458</td>\n    </tr>\n    <tr>\n      <th>4</th>\n      <td>E</td>\n      <td>964</td>\n      <td>0.644191</td>\n    </tr>\n    <tr>\n      <th>5</th>\n      <td>F</td>\n      <td>241</td>\n      <td>0.705394</td>\n    </tr>\n    <tr>\n      <th>6</th>\n      <td>G</td>\n      <td>64</td>\n      <td>0.984375</td>\n    </tr>\n  </tbody>\n</table>\n</div>"
          },
          "metadata": {}
        },
        {
          "output_type": "display_data",
          "data": {
            "text/plain": "  cb_person_default_on_file loan_status          \n                                  count      mean\n0                         N       26836  0.183932\n1                         Y        5745  0.378068",
            "text/html": "<div>\n<style scoped>\n    .dataframe tbody tr th:only-of-type {\n        vertical-align: middle;\n    }\n\n    .dataframe tbody tr th {\n        vertical-align: top;\n    }\n\n    .dataframe thead tr th {\n        text-align: left;\n    }\n</style>\n<table border=\"1\" class=\"dataframe\">\n  <thead>\n    <tr>\n      <th></th>\n      <th>cb_person_default_on_file</th>\n      <th colspan=\"2\" halign=\"left\">loan_status</th>\n    </tr>\n    <tr>\n      <th></th>\n      <th></th>\n      <th>count</th>\n      <th>mean</th>\n    </tr>\n  </thead>\n  <tbody>\n    <tr>\n      <th>0</th>\n      <td>N</td>\n      <td>26836</td>\n      <td>0.183932</td>\n    </tr>\n    <tr>\n      <th>1</th>\n      <td>Y</td>\n      <td>5745</td>\n      <td>0.378068</td>\n    </tr>\n  </tbody>\n</table>\n</div>"
          },
          "metadata": {}
        },
        {
          "output_type": "display_data",
          "data": {
            "text/plain": "                            PctNull DataTypes\nperson_age                     0.00     int64\nperson_income                  0.00     int64\nperson_home_ownership          0.00    object\nperson_emp_length              0.03   float64\nloan_intent                    0.00    object\nloan_grade                     0.00    object\nloan_amnt                      0.00     int64\nloan_int_rate                  0.10   float64\nloan_status                    0.00     int64\nloan_percent_income            0.00   float64\ncb_person_default_on_file      0.00    object\ncb_person_cred_hist_length     0.00     int64",
            "text/html": "<div>\n<style scoped>\n    .dataframe tbody tr th:only-of-type {\n        vertical-align: middle;\n    }\n\n    .dataframe tbody tr th {\n        vertical-align: top;\n    }\n\n    .dataframe thead th {\n        text-align: right;\n    }\n</style>\n<table border=\"1\" class=\"dataframe\">\n  <thead>\n    <tr style=\"text-align: right;\">\n      <th></th>\n      <th>PctNull</th>\n      <th>DataTypes</th>\n    </tr>\n  </thead>\n  <tbody>\n    <tr>\n      <th>person_age</th>\n      <td>0.00</td>\n      <td>int64</td>\n    </tr>\n    <tr>\n      <th>person_income</th>\n      <td>0.00</td>\n      <td>int64</td>\n    </tr>\n    <tr>\n      <th>person_home_ownership</th>\n      <td>0.00</td>\n      <td>object</td>\n    </tr>\n    <tr>\n      <th>person_emp_length</th>\n      <td>0.03</td>\n      <td>float64</td>\n    </tr>\n    <tr>\n      <th>loan_intent</th>\n      <td>0.00</td>\n      <td>object</td>\n    </tr>\n    <tr>\n      <th>loan_grade</th>\n      <td>0.00</td>\n      <td>object</td>\n    </tr>\n    <tr>\n      <th>loan_amnt</th>\n      <td>0.00</td>\n      <td>int64</td>\n    </tr>\n    <tr>\n      <th>loan_int_rate</th>\n      <td>0.10</td>\n      <td>float64</td>\n    </tr>\n    <tr>\n      <th>loan_status</th>\n      <td>0.00</td>\n      <td>int64</td>\n    </tr>\n    <tr>\n      <th>loan_percent_income</th>\n      <td>0.00</td>\n      <td>float64</td>\n    </tr>\n    <tr>\n      <th>cb_person_default_on_file</th>\n      <td>0.00</td>\n      <td>object</td>\n    </tr>\n    <tr>\n      <th>cb_person_cred_hist_length</th>\n      <td>0.00</td>\n      <td>int64</td>\n    </tr>\n  </tbody>\n</table>\n</div>"
          },
          "metadata": {}
        }
      ],
      "execution_count": 5
    },
    {
      "cell_type": "markdown",
      "source": "# Part 2: Understand model performance with vs. w.o hyperparameter tuning ",
      "metadata": {}
    },
    {
      "cell_type": "markdown",
      "source": "## Part 2.1 Default performance - No hyperparameter tuning ",
      "metadata": {}
    },
    {
      "cell_type": "code",
      "source": "modelType = ['DecisionTree', 'KNN', 'SVM', 'NeuralNetwork']\nmodelObjectLst = [] \ndefaultPerformance = pd.DataFrame() \n\nfor model in modelType: \n    modelObject = classificationModel(model) \n    modelObjectLst.append(modelObject) \n    modelObject.fit(X_train, y_train) \n    performance = modelObject.evaluate_performance(X_train, y_train, X_test, y_test)\n    performance['modelType'] = model \n    defaultPerformance = pd.concat([defaultPerformance, performance], axis = 0)\n\n\ndefaultPerformance = defaultPerformance[['modelType', 'sample', 'accuracy', 'auc', 'time (seconds)']]\ndefaultPerformance.to_csv('/drive/notebooks/defaultPerformance.csv')",
      "metadata": {
        "trusted": true
      },
      "outputs": [
        {
          "ename": "<class 'NameError'>",
          "evalue": "name 'MLPClassifier' is not defined",
          "traceback": [
            "\u001b[0;31m---------------------------------------------------------------------------\u001b[0m",
            "\u001b[0;31mNameError\u001b[0m                                 Traceback (most recent call last)",
            "Cell \u001b[0;32mIn[6], line 6\u001b[0m\n\u001b[1;32m      3\u001b[0m defaultPerformance \u001b[38;5;241m=\u001b[39m pd\u001b[38;5;241m.\u001b[39mDataFrame() \n\u001b[1;32m      5\u001b[0m \u001b[38;5;28;01mfor\u001b[39;00m model \u001b[38;5;129;01min\u001b[39;00m modelType: \n\u001b[0;32m----> 6\u001b[0m     modelObject \u001b[38;5;241m=\u001b[39m \u001b[43mclassificationModel\u001b[49m\u001b[43m(\u001b[49m\u001b[43mmodel\u001b[49m\u001b[43m)\u001b[49m \n\u001b[1;32m      7\u001b[0m     modelObjectLst\u001b[38;5;241m.\u001b[39mappend(modelObject) \n\u001b[1;32m      8\u001b[0m     modelObject\u001b[38;5;241m.\u001b[39mfit(X_train, y_train) \n",
            "File \u001b[0;32m/drive/notebooks/utils.py:130\u001b[0m, in \u001b[0;36mclassificationModel.__init__\u001b[0;34m(self, model)\u001b[0m\n\u001b[1;32m    128\u001b[0m     \u001b[38;5;28mself\u001b[39m\u001b[38;5;241m.\u001b[39mmodel \u001b[38;5;241m=\u001b[39m SVC(probability\u001b[38;5;241m=\u001b[39m\u001b[38;5;28;01mTrue\u001b[39;00m) \n\u001b[1;32m    129\u001b[0m \u001b[38;5;28;01melif\u001b[39;00m model \u001b[38;5;241m==\u001b[39m \u001b[38;5;124m'\u001b[39m\u001b[38;5;124mNeuralNetwork\u001b[39m\u001b[38;5;124m'\u001b[39m: \n\u001b[0;32m--> 130\u001b[0m     \u001b[38;5;28mself\u001b[39m\u001b[38;5;241m.\u001b[39mmodel \u001b[38;5;241m=\u001b[39m \u001b[43mMLPClassifier\u001b[49m()\n",
            "\u001b[0;31mNameError\u001b[0m: name 'MLPClassifier' is not defined"
          ],
          "output_type": "error"
        }
      ],
      "execution_count": 6
    },
    {
      "cell_type": "code",
      "source": "\ndefaultPerformance ",
      "metadata": {
        "trusted": true
      },
      "outputs": [
        {
          "execution_count": 14,
          "output_type": "execute_result",
          "data": {
            "text/plain": "      modelType sample  accuracy       auc  time (seconds)\n0  DecisionTree  Train  1.000000  1.000000           0.129\n1  DecisionTree   Test  0.883785  0.839615           0.003\n0           KNN  Train  0.915154  0.961129           0.004\n1           KNN   Test  0.888696  0.863768           2.555\n0           SVM  Train  0.899325  0.893269          72.850\n1           SVM   Test  0.895038  0.884671           5.022",
            "text/html": "<div>\n<style scoped>\n    .dataframe tbody tr th:only-of-type {\n        vertical-align: middle;\n    }\n\n    .dataframe tbody tr th {\n        vertical-align: top;\n    }\n\n    .dataframe thead th {\n        text-align: right;\n    }\n</style>\n<table border=\"1\" class=\"dataframe\">\n  <thead>\n    <tr style=\"text-align: right;\">\n      <th></th>\n      <th>modelType</th>\n      <th>sample</th>\n      <th>accuracy</th>\n      <th>auc</th>\n      <th>time (seconds)</th>\n    </tr>\n  </thead>\n  <tbody>\n    <tr>\n      <th>0</th>\n      <td>DecisionTree</td>\n      <td>Train</td>\n      <td>1.000000</td>\n      <td>1.000000</td>\n      <td>0.129</td>\n    </tr>\n    <tr>\n      <th>1</th>\n      <td>DecisionTree</td>\n      <td>Test</td>\n      <td>0.883785</td>\n      <td>0.839615</td>\n      <td>0.003</td>\n    </tr>\n    <tr>\n      <th>0</th>\n      <td>KNN</td>\n      <td>Train</td>\n      <td>0.915154</td>\n      <td>0.961129</td>\n      <td>0.004</td>\n    </tr>\n    <tr>\n      <th>1</th>\n      <td>KNN</td>\n      <td>Test</td>\n      <td>0.888696</td>\n      <td>0.863768</td>\n      <td>2.555</td>\n    </tr>\n    <tr>\n      <th>0</th>\n      <td>SVM</td>\n      <td>Train</td>\n      <td>0.899325</td>\n      <td>0.893269</td>\n      <td>72.850</td>\n    </tr>\n    <tr>\n      <th>1</th>\n      <td>SVM</td>\n      <td>Test</td>\n      <td>0.895038</td>\n      <td>0.884671</td>\n      <td>5.022</td>\n    </tr>\n  </tbody>\n</table>\n</div>"
          },
          "metadata": {}
        }
      ],
      "execution_count": 14
    },
    {
      "cell_type": "markdown",
      "source": "## Part 2.2 Performance - With some hyperparameter tuning ",
      "metadata": {}
    },
    {
      "cell_type": "code",
      "source": "modelType = ['DecisionTree', 'KNN', 'SVM']\nmodelObjectLst = [] \ntunedPerformance = pd.DataFrame() \n\nfor model in modelType: \n    modelObject = classificationModel(model) \n    modelObjectLst.append(modelObject) \n    modelObject.GridSearch(X_train, y_train) \n    performance = modelObject.evaluate_performance(X_train, y_train, X_test, y_test)\n    performance['modelType'] = model \n    performance['bestParam'] = str(modelObject.GridSearchCV.best_params_)\n    tunedPerformance = pd.concat([tunedPerformance, performance], axis = 0)\n\ntunedPerformance = tunedPerformance[['modelType', 'bestParam', 'sample', 'accuracy', 'auc', 'time (seconds)']]\ntunedPerformance.to_csv('/drive/notebooks/tunedPerformance.csv')",
      "metadata": {
        "trusted": true
      },
      "outputs": [
        {
          "name": "stdout",
          "text": "performing hyperparameter tuning for Decision Tree\nbest parameter:\n{'max_depth': 10, 'max_features': 23}\nperforming hyperparameter tuning for KNN\nbest parameter:\n{'n_neighbors': 10, 'weights': 'distance'}\nperforming hyperparameter tuning for SVM\nbest parameter:\n{'degree': 2}\n",
          "output_type": "stream"
        }
      ],
      "execution_count": 20
    },
    {
      "cell_type": "code",
      "source": "tunedPerformance",
      "metadata": {
        "trusted": true
      },
      "outputs": [
        {
          "execution_count": 21,
          "output_type": "execute_result",
          "data": {
            "text/plain": "      modelType                                   bestParam sample  accuracy  \\\n0  DecisionTree       {'max_depth': 10, 'max_features': 23}  Train  0.935236   \n1  DecisionTree       {'max_depth': 10, 'max_features': 23}   Test  0.922455   \n0           KNN  {'n_neighbors': 10, 'weights': 'distance'}  Train  1.000000   \n1           KNN  {'n_neighbors': 10, 'weights': 'distance'}   Test  0.894834   \n0           SVM                               {'degree': 2}  Train  0.899325   \n1           SVM                               {'degree': 2}   Test  0.895038   \n\n        auc  time (seconds)  \n0  0.926854           0.000  \n1  0.900036           0.002  \n0  1.000000           0.000  \n1  0.881782           2.565  \n0  0.893261           0.000  \n1  0.884677           4.748  ",
            "text/html": "<div>\n<style scoped>\n    .dataframe tbody tr th:only-of-type {\n        vertical-align: middle;\n    }\n\n    .dataframe tbody tr th {\n        vertical-align: top;\n    }\n\n    .dataframe thead th {\n        text-align: right;\n    }\n</style>\n<table border=\"1\" class=\"dataframe\">\n  <thead>\n    <tr style=\"text-align: right;\">\n      <th></th>\n      <th>modelType</th>\n      <th>bestParam</th>\n      <th>sample</th>\n      <th>accuracy</th>\n      <th>auc</th>\n      <th>time (seconds)</th>\n    </tr>\n  </thead>\n  <tbody>\n    <tr>\n      <th>0</th>\n      <td>DecisionTree</td>\n      <td>{'max_depth': 10, 'max_features': 23}</td>\n      <td>Train</td>\n      <td>0.935236</td>\n      <td>0.926854</td>\n      <td>0.000</td>\n    </tr>\n    <tr>\n      <th>1</th>\n      <td>DecisionTree</td>\n      <td>{'max_depth': 10, 'max_features': 23}</td>\n      <td>Test</td>\n      <td>0.922455</td>\n      <td>0.900036</td>\n      <td>0.002</td>\n    </tr>\n    <tr>\n      <th>0</th>\n      <td>KNN</td>\n      <td>{'n_neighbors': 10, 'weights': 'distance'}</td>\n      <td>Train</td>\n      <td>1.000000</td>\n      <td>1.000000</td>\n      <td>0.000</td>\n    </tr>\n    <tr>\n      <th>1</th>\n      <td>KNN</td>\n      <td>{'n_neighbors': 10, 'weights': 'distance'}</td>\n      <td>Test</td>\n      <td>0.894834</td>\n      <td>0.881782</td>\n      <td>2.565</td>\n    </tr>\n    <tr>\n      <th>0</th>\n      <td>SVM</td>\n      <td>{'degree': 2}</td>\n      <td>Train</td>\n      <td>0.899325</td>\n      <td>0.893261</td>\n      <td>0.000</td>\n    </tr>\n    <tr>\n      <th>1</th>\n      <td>SVM</td>\n      <td>{'degree': 2}</td>\n      <td>Test</td>\n      <td>0.895038</td>\n      <td>0.884677</td>\n      <td>4.748</td>\n    </tr>\n  </tbody>\n</table>\n</div>"
          },
          "metadata": {}
        }
      ],
      "execution_count": 21
    },
    {
      "cell_type": "markdown",
      "source": "## Part 3: Simulate different X_Trains under different sample size and different # of features to see the robustness of model performance \n\nFollowing scenarios are simulated: \n- sample size: 20%, 40%, 60%, 80% of current X_train \n- features: There are overall 23 features, randomly take 5, 10, 15 of the features\n\nFor each sceanrio, tune hyperparameter and store model performance ",
      "metadata": {}
    },
    {
      "cell_type": "code",
      "source": "modelType = ['DecisionTree', 'KNN', 'SVM']\nmodelObjectLst = [] \ntunedPerformance = pd.DataFrame() \n\nfor nrow in [0.05, 0.1, 0.2, 0.4, 0.6, 0.8]: \n    for ncol in [5, 10, 15]: \n        print('sampling nrow {} and ncol {}'.format(nrow, ncol))\n        # first do row wise sampling for X_train and y_train \n        X_train_rowSampled = X_train.sample(frac = nrow, axis = 0, random_state = 42) \n        y_train_sampled = y_train.sample(frac = nrow, axis = 0, random_state = 42) \n        # then do X_train column sampling specifically \n        X_train_sampled = X_train_rowSampled.sample(n = ncol, axis = 1, random_state = 42) \n        SampleSize = X_train_sampled.shape[0]\n        numFeature = X_train_sampled.shape[1] \n        \n        for model in modelType: \n            modelObject = classificationModel(model) \n            modelObjectLst.append(modelObject) \n            modelObject.GridSearch(X_train_sampled, y_train_sampled) \n            performance = modelObject.evaluate_performance(X_train_sampled, y_train_sampled, X_test[X_train_sampled.columns], y_test)\n            performance['modelType'] = model \n            performance['SampleSize'] = SampleSize \n            performance['NumFeature'] = numFeature \n            performance['bestParam'] = str(modelObject.GridSearchCV.best_params_)\n            tunedPerformance = pd.concat([tunedPerformance, performance], axis = 0)\n            \ntunedPerformance.to_csv('/drive/notebooks/tunedPerformanceSampled.csv')",
      "metadata": {
        "trusted": true,
        "collapsed": true,
        "jupyter": {
          "outputs_hidden": true
        }
      },
      "outputs": [
        {
          "name": "stdout",
          "text": "sampling nrow 0.05 and ncol 5\nperforming hyperparameter tuning for Decision Tree\nbest parameter:\n{'max_depth': 5, 'max_features': 10}\nperforming hyperparameter tuning for KNN\nbest parameter:\n{'n_neighbors': 20, 'weights': 'uniform'}\nperforming hyperparameter tuning for SVM\nbest parameter:\n{'degree': 2}\nsampling nrow 0.05 and ncol 10\nperforming hyperparameter tuning for Decision Tree\nbest parameter:\n{'max_depth': 5, 'max_features': 20}\nperforming hyperparameter tuning for KNN\nbest parameter:\n{'n_neighbors': 20, 'weights': 'distance'}\nperforming hyperparameter tuning for SVM\nbest parameter:\n{'degree': 2}\nsampling nrow 0.05 and ncol 15\nperforming hyperparameter tuning for Decision Tree\nbest parameter:\n{'max_depth': 5, 'max_features': 23}\nperforming hyperparameter tuning for KNN\nbest parameter:\n{'n_neighbors': 10, 'weights': 'distance'}\nperforming hyperparameter tuning for SVM\nbest parameter:\n{'degree': 2}\nsampling nrow 0.1 and ncol 5\nperforming hyperparameter tuning for Decision Tree\nbest parameter:\n{'max_depth': 5, 'max_features': 10}\nperforming hyperparameter tuning for KNN\nbest parameter:\n{'n_neighbors': 20, 'weights': 'uniform'}\nperforming hyperparameter tuning for SVM\nbest parameter:\n{'degree': 2}\nsampling nrow 0.1 and ncol 10\nperforming hyperparameter tuning for Decision Tree\nbest parameter:\n{'max_depth': 5, 'max_features': 23}\nperforming hyperparameter tuning for KNN\nbest parameter:\n{'n_neighbors': 10, 'weights': 'uniform'}\nperforming hyperparameter tuning for SVM\nbest parameter:\n{'degree': 2}\nsampling nrow 0.1 and ncol 15\nperforming hyperparameter tuning for Decision Tree\nbest parameter:\n{'max_depth': 5, 'max_features': 20}\nperforming hyperparameter tuning for KNN\nbest parameter:\n{'n_neighbors': 10, 'weights': 'distance'}\nperforming hyperparameter tuning for SVM\nbest parameter:\n{'degree': 2}\nsampling nrow 0.2 and ncol 5\nperforming hyperparameter tuning for Decision Tree\nbest parameter:\n{'max_depth': 5, 'max_features': 10}\nperforming hyperparameter tuning for KNN\nbest parameter:\n{'n_neighbors': 20, 'weights': 'uniform'}\nperforming hyperparameter tuning for SVM\nbest parameter:\n{'degree': 2}\nsampling nrow 0.2 and ncol 10\nperforming hyperparameter tuning for Decision Tree\nbest parameter:\n{'max_depth': 5, 'max_features': 15}\nperforming hyperparameter tuning for KNN\nbest parameter:\n{'n_neighbors': 15, 'weights': 'uniform'}\nperforming hyperparameter tuning for SVM\nbest parameter:\n{'degree': 2}\nsampling nrow 0.2 and ncol 15\nperforming hyperparameter tuning for Decision Tree\nbest parameter:\n{'max_depth': 5, 'max_features': 20}\nperforming hyperparameter tuning for KNN\nbest parameter:\n{'n_neighbors': 10, 'weights': 'distance'}\nperforming hyperparameter tuning for SVM\nbest parameter:\n{'degree': 2}\nsampling nrow 0.4 and ncol 5\nperforming hyperparameter tuning for Decision Tree\nbest parameter:\n{'max_depth': 5, 'max_features': 10}\nperforming hyperparameter tuning for KNN\nbest parameter:\n{'n_neighbors': 20, 'weights': 'uniform'}\nperforming hyperparameter tuning for SVM\nbest parameter:\n{'degree': 2}\nsampling nrow 0.4 and ncol 10\nperforming hyperparameter tuning for Decision Tree\nbest parameter:\n{'max_depth': 5, 'max_features': 15}\nperforming hyperparameter tuning for KNN\nbest parameter:\n{'n_neighbors': 20, 'weights': 'uniform'}\nperforming hyperparameter tuning for SVM\nbest parameter:\n{'degree': 2}\nsampling nrow 0.4 and ncol 15\nperforming hyperparameter tuning for Decision Tree\nbest parameter:\n{'max_depth': 5, 'max_features': 15}\nperforming hyperparameter tuning for KNN\nbest parameter:\n{'n_neighbors': 10, 'weights': 'distance'}\nperforming hyperparameter tuning for SVM\nbest parameter:\n{'degree': 2}\nsampling nrow 0.6 and ncol 5\nperforming hyperparameter tuning for Decision Tree\nbest parameter:\n{'max_depth': 5, 'max_features': 10}\nperforming hyperparameter tuning for KNN\nbest parameter:\n{'n_neighbors': 20, 'weights': 'uniform'}\nperforming hyperparameter tuning for SVM\nbest parameter:\n{'degree': 2}\nsampling nrow 0.6 and ncol 10\nperforming hyperparameter tuning for Decision Tree\nbest parameter:\n{'max_depth': 5, 'max_features': 20}\nperforming hyperparameter tuning for KNN\nbest parameter:\n{'n_neighbors': 20, 'weights': 'uniform'}\nperforming hyperparameter tuning for SVM\nbest parameter:\n{'degree': 2}\nsampling nrow 0.6 and ncol 15\nperforming hyperparameter tuning for Decision Tree\nbest parameter:\n{'max_depth': 5, 'max_features': 23}\nperforming hyperparameter tuning for KNN\nbest parameter:\n{'n_neighbors': 10, 'weights': 'distance'}\nperforming hyperparameter tuning for SVM\nbest parameter:\n{'degree': 2}\nsampling nrow 0.8 and ncol 5\nperforming hyperparameter tuning for Decision Tree\nbest parameter:\n{'max_depth': 5, 'max_features': 10}\nperforming hyperparameter tuning for KNN\nbest parameter:\n{'n_neighbors': 20, 'weights': 'uniform'}\nperforming hyperparameter tuning for SVM\nbest parameter:\n{'degree': 2}\nsampling nrow 0.8 and ncol 10\nperforming hyperparameter tuning for Decision Tree\nbest parameter:\n{'max_depth': 5, 'max_features': 20}\nperforming hyperparameter tuning for KNN\nbest parameter:\n{'n_neighbors': 15, 'weights': 'uniform'}\nperforming hyperparameter tuning for SVM\nbest parameter:\n{'degree': 2}\nsampling nrow 0.8 and ncol 15\nperforming hyperparameter tuning for Decision Tree\nbest parameter:\n{'max_depth': 10, 'max_features': 23}\nperforming hyperparameter tuning for KNN\nbest parameter:\n{'n_neighbors': 15, 'weights': 'distance'}\nperforming hyperparameter tuning for SVM\nbest parameter:\n{'degree': 2}\n",
          "output_type": "stream"
        }
      ],
      "execution_count": 42
    },
    {
      "cell_type": "code",
      "source": "tunedPerformance = pd.read_csv('/drive/notebooks/tunedPerformanceSampled.csv')\ntunedPerformance.head()\ntunedPerformance[tunedPerformance['sample'] == 'Test'].pivot(index = ['modelType', 'SampleSize'], columns = ['NumFeature'], values = 'auc')\n                       ",
      "metadata": {
        "trusted": true,
        "scrolled": true,
        "collapsed": true,
        "jupyter": {
          "outputs_hidden": true
        }
      },
      "outputs": [
        {
          "execution_count": 11,
          "output_type": "execute_result",
          "data": {
            "text/plain": "NumFeature                     5         10        15\nmodelType    SampleSize                              \nDecisionTree 1140        0.549468  0.761092  0.825433\n             2281        0.570296  0.773870  0.843206\n             4561        0.567149  0.764330  0.856185\n             9122        0.569157  0.773248  0.869782\n             13684       0.569444  0.777358  0.870420\n             18245       0.571669  0.770685  0.869036\nKNN          1140        0.552835  0.731827  0.824705\n             2281        0.557728  0.710620  0.844645\n             4561        0.554413  0.734366  0.853106\n             9122        0.551954  0.743387  0.863958\n             13684       0.555914  0.750700  0.872950\n             18245       0.546357  0.751055  0.883203\nSVM          1140        0.494446  0.729569  0.857758\n             2281        0.531837  0.730636  0.867193\n             4561        0.559165  0.739498  0.873093\n             9122        0.491717  0.739063  0.878671\n             13684       0.549314  0.740376  0.879944\n             18245       0.530198  0.739255  0.881387",
            "text/html": "<div>\n<style scoped>\n    .dataframe tbody tr th:only-of-type {\n        vertical-align: middle;\n    }\n\n    .dataframe tbody tr th {\n        vertical-align: top;\n    }\n\n    .dataframe thead th {\n        text-align: right;\n    }\n</style>\n<table border=\"1\" class=\"dataframe\">\n  <thead>\n    <tr style=\"text-align: right;\">\n      <th></th>\n      <th>NumFeature</th>\n      <th>5</th>\n      <th>10</th>\n      <th>15</th>\n    </tr>\n    <tr>\n      <th>modelType</th>\n      <th>SampleSize</th>\n      <th></th>\n      <th></th>\n      <th></th>\n    </tr>\n  </thead>\n  <tbody>\n    <tr>\n      <th rowspan=\"6\" valign=\"top\">DecisionTree</th>\n      <th>1140</th>\n      <td>0.549468</td>\n      <td>0.761092</td>\n      <td>0.825433</td>\n    </tr>\n    <tr>\n      <th>2281</th>\n      <td>0.570296</td>\n      <td>0.773870</td>\n      <td>0.843206</td>\n    </tr>\n    <tr>\n      <th>4561</th>\n      <td>0.567149</td>\n      <td>0.764330</td>\n      <td>0.856185</td>\n    </tr>\n    <tr>\n      <th>9122</th>\n      <td>0.569157</td>\n      <td>0.773248</td>\n      <td>0.869782</td>\n    </tr>\n    <tr>\n      <th>13684</th>\n      <td>0.569444</td>\n      <td>0.777358</td>\n      <td>0.870420</td>\n    </tr>\n    <tr>\n      <th>18245</th>\n      <td>0.571669</td>\n      <td>0.770685</td>\n      <td>0.869036</td>\n    </tr>\n    <tr>\n      <th rowspan=\"6\" valign=\"top\">KNN</th>\n      <th>1140</th>\n      <td>0.552835</td>\n      <td>0.731827</td>\n      <td>0.824705</td>\n    </tr>\n    <tr>\n      <th>2281</th>\n      <td>0.557728</td>\n      <td>0.710620</td>\n      <td>0.844645</td>\n    </tr>\n    <tr>\n      <th>4561</th>\n      <td>0.554413</td>\n      <td>0.734366</td>\n      <td>0.853106</td>\n    </tr>\n    <tr>\n      <th>9122</th>\n      <td>0.551954</td>\n      <td>0.743387</td>\n      <td>0.863958</td>\n    </tr>\n    <tr>\n      <th>13684</th>\n      <td>0.555914</td>\n      <td>0.750700</td>\n      <td>0.872950</td>\n    </tr>\n    <tr>\n      <th>18245</th>\n      <td>0.546357</td>\n      <td>0.751055</td>\n      <td>0.883203</td>\n    </tr>\n    <tr>\n      <th rowspan=\"6\" valign=\"top\">SVM</th>\n      <th>1140</th>\n      <td>0.494446</td>\n      <td>0.729569</td>\n      <td>0.857758</td>\n    </tr>\n    <tr>\n      <th>2281</th>\n      <td>0.531837</td>\n      <td>0.730636</td>\n      <td>0.867193</td>\n    </tr>\n    <tr>\n      <th>4561</th>\n      <td>0.559165</td>\n      <td>0.739498</td>\n      <td>0.873093</td>\n    </tr>\n    <tr>\n      <th>9122</th>\n      <td>0.491717</td>\n      <td>0.739063</td>\n      <td>0.878671</td>\n    </tr>\n    <tr>\n      <th>13684</th>\n      <td>0.549314</td>\n      <td>0.740376</td>\n      <td>0.879944</td>\n    </tr>\n    <tr>\n      <th>18245</th>\n      <td>0.530198</td>\n      <td>0.739255</td>\n      <td>0.881387</td>\n    </tr>\n  </tbody>\n</table>\n</div>"
          },
          "metadata": {}
        }
      ],
      "execution_count": 11
    },
    {
      "cell_type": "markdown",
      "source": "## Part 4: Check how sensitive each model is to incoming noise in the feature sets \n\ncreate a function to randomly create features following a uniform or normal distribution \n\nor randomly create a bernouli distribution with certain success probability ",
      "metadata": {}
    },
    {
      "cell_type": "code",
      "source": "def generate_scaled_variates(distribution_func, size, random_seed = 42, *args, **kwargs): \n    np.random.seed(random_seed) \n    samples = distribution_func(size = size, *args,  **kwargs) \n    # min-max scale within 0 and 1 \n    scaled_sample = (samples - np.min(samples)) / (np.max(samples) - np.min(samples)) \n\n    return scaled_sample \n\nrandNormal = generate_scaled_variates(np.random.normal, loc = 0, size = 1000, scale = 1) \nrandUniform = generate_scaled_variates(np.random.random, size = 1000) \nrandExponential = generate_scaled_variates(np.random.exponential, size = 1000)\nrandBinomial =  generate_scaled_variates(np.random.random, size = 1000) < 0.1  \n\n# Create two datasets containing the noise of X_train and X_test \n# This dataset will contain a random normal, unitform, exponential and binary variable with probability 10%, 20%, 30%, 40%, 50%\ndef generate_noise_dataset(X): \n    \n    df_noise = pd.DataFrame({'randNormal': generate_scaled_variates(np.random.normal, loc = 0, size = len(X), scale = 1),\n                             'randUniform': generate_scaled_variates(np.random.random, size = len(X)), \n                             'randExponential': generate_scaled_variates(np.random.exponential, size = len(X)), \n                             'randBinary10': generate_scaled_variates(np.random.random, size = len(X), random_seed = 43) < 0.1, \n                             'randBinary20': generate_scaled_variates(np.random.random, size = len(X), random_seed = 44) < 0.2, \n                             'randBinary30': generate_scaled_variates(np.random.random, size = len(X), random_seed = 45) < 0.3,\n                             'randBinary40': generate_scaled_variates(np.random.random, size = len(X), random_seed = 46) < 0.4,\n                            })\n    return df_noise \n\nX_train_noise = generate_noise_dataset(X_train) \nX_test_noise = generate_noise_dataset(X_test)",
      "metadata": {
        "trusted": true
      },
      "outputs": [],
      "execution_count": 6
    },
    {
      "cell_type": "code",
      "source": "modelType = ['DecisionTree', 'KNN']\nmodelObjectLst = [] \ntunedPerformance = pd.DataFrame() \n\nfor n_noise in [0, 1, 2, 3, 4, 5, 6, 7]: \n    print('adding {} noisy features'.format(n_noise))\n    # sample n noisy features from X_train  \n    X_train_noise_sampled = X_train_noise.sample(n = n_noise, axis = 1, random_state = 42) \n    X_train_w_noise = pd.concat([X_train.reset_index(), X_train_noise_sampled.reset_index()], axis = 1) \n    \n    X_test_noise_sampled = X_test_noise.sample(n = n_noise, axis = 1, random_state = 42) \n    X_test_w_noise = pd.concat([X_test.reset_index(), X_test_noise_sampled.reset_index()], axis = 1) \n    \n    for model in modelType: \n        modelObject = classificationModel(model) \n        modelObjectLst.append(modelObject) \n        modelObject.GridSearch(X_train_w_noise, y_train) \n        performance = modelObject.evaluate_performance(X_train_w_noise, y_train, X_test_w_noise, y_test)\n        performance['modelType'] = model \n        performance['numNoise'] = n_noise \n        performance['bestParam'] = str(modelObject.GridSearchCV.best_params_)\n        tunedPerformance = pd.concat([tunedPerformance, performance], axis = 0)\n            \ntunedPerformance.to_csv('/drive/notebooks/tunedPerformanceWithNoise.csv')\n",
      "metadata": {
        "trusted": true
      },
      "outputs": [
        {
          "ename": "<class 'NameError'>",
          "evalue": "name 'pd' is not defined",
          "traceback": [
            "\u001b[0;31m---------------------------------------------------------------------------\u001b[0m",
            "\u001b[0;31mNameError\u001b[0m                                 Traceback (most recent call last)",
            "Cell \u001b[0;32mIn[1], line 3\u001b[0m\n\u001b[1;32m      1\u001b[0m modelType \u001b[38;5;241m=\u001b[39m [\u001b[38;5;124m'\u001b[39m\u001b[38;5;124mDecisionTree\u001b[39m\u001b[38;5;124m'\u001b[39m, \u001b[38;5;124m'\u001b[39m\u001b[38;5;124mKNN\u001b[39m\u001b[38;5;124m'\u001b[39m]\n\u001b[1;32m      2\u001b[0m modelObjectLst \u001b[38;5;241m=\u001b[39m [] \n\u001b[0;32m----> 3\u001b[0m tunedPerformance \u001b[38;5;241m=\u001b[39m \u001b[43mpd\u001b[49m\u001b[38;5;241m.\u001b[39mDataFrame() \n\u001b[1;32m      5\u001b[0m \u001b[38;5;28;01mfor\u001b[39;00m n_noise \u001b[38;5;129;01min\u001b[39;00m [\u001b[38;5;241m0\u001b[39m, \u001b[38;5;241m1\u001b[39m, \u001b[38;5;241m2\u001b[39m, \u001b[38;5;241m3\u001b[39m, \u001b[38;5;241m4\u001b[39m, \u001b[38;5;241m5\u001b[39m, \u001b[38;5;241m6\u001b[39m, \u001b[38;5;241m7\u001b[39m]: \n\u001b[1;32m      6\u001b[0m     \u001b[38;5;28mprint\u001b[39m(\u001b[38;5;124m'\u001b[39m\u001b[38;5;124madding \u001b[39m\u001b[38;5;132;01m{}\u001b[39;00m\u001b[38;5;124m noisy features\u001b[39m\u001b[38;5;124m'\u001b[39m\u001b[38;5;241m.\u001b[39mformat(n_noise))\n",
            "\u001b[0;31mNameError\u001b[0m: name 'pd' is not defined"
          ],
          "output_type": "error"
        }
      ],
      "execution_count": 1
    },
    {
      "cell_type": "code",
      "source": "tunedPerformance[tunedPerformance['sample'] == 'Test'].pivot(index = ['modelType'], columns = ['numNoise'], values = 'auc')\n\n",
      "metadata": {
        "trusted": true
      },
      "outputs": [
        {
          "execution_count": 16,
          "output_type": "execute_result",
          "data": {
            "text/plain": "numNoise             1         2         3         4         5         6  \\\nmodelType                                                                  \nDecisionTree  0.892113  0.894589  0.895234  0.896717  0.891943  0.884996   \nKNN           0.570872  0.570883  0.570894  0.570894  0.570894  0.570894   \n\nnumNoise             7  \nmodelType               \nDecisionTree  0.867435  \nKNN           0.570883  ",
            "text/html": "<div>\n<style scoped>\n    .dataframe tbody tr th:only-of-type {\n        vertical-align: middle;\n    }\n\n    .dataframe tbody tr th {\n        vertical-align: top;\n    }\n\n    .dataframe thead th {\n        text-align: right;\n    }\n</style>\n<table border=\"1\" class=\"dataframe\">\n  <thead>\n    <tr style=\"text-align: right;\">\n      <th>numNoise</th>\n      <th>1</th>\n      <th>2</th>\n      <th>3</th>\n      <th>4</th>\n      <th>5</th>\n      <th>6</th>\n      <th>7</th>\n    </tr>\n    <tr>\n      <th>modelType</th>\n      <th></th>\n      <th></th>\n      <th></th>\n      <th></th>\n      <th></th>\n      <th></th>\n      <th></th>\n    </tr>\n  </thead>\n  <tbody>\n    <tr>\n      <th>DecisionTree</th>\n      <td>0.892113</td>\n      <td>0.894589</td>\n      <td>0.895234</td>\n      <td>0.896717</td>\n      <td>0.891943</td>\n      <td>0.884996</td>\n      <td>0.867435</td>\n    </tr>\n    <tr>\n      <th>KNN</th>\n      <td>0.570872</td>\n      <td>0.570883</td>\n      <td>0.570894</td>\n      <td>0.570894</td>\n      <td>0.570894</td>\n      <td>0.570894</td>\n      <td>0.570883</td>\n    </tr>\n  </tbody>\n</table>\n</div>"
          },
          "metadata": {}
        }
      ],
      "execution_count": 16
    }
  ]
}